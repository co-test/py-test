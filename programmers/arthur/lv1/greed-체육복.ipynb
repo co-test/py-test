{
 "cells": [
  {
   "cell_type": "code",
   "execution_count": 3,
   "outputs": [],
   "source": [
    "def solution(n, lost, reserve):\n",
    "    set_pure_reserved = set(reserve) - set(lost)\n",
    "    set_pure_lost = set(lost) - set(reserve)\n",
    "    for i in set_pure_reserved:\n",
    "        if i-1 in set_pure_lost:\n",
    "            set_pure_lost.remove(i-1)\n",
    "        elif i+1 in set_pure_lost:\n",
    "            set_pure_lost.remove(i+1)\n",
    "        return n-len(set_pure_lost)"
   ],
   "metadata": {
    "collapsed": false,
    "pycharm": {
     "name": "#%%\n"
    }
   }
  },
  {
   "cell_type": "code",
   "execution_count": 4,
   "outputs": [
    {
     "name": "stdout",
     "output_type": "stream",
     "text": [
      "4\n"
     ]
    }
   ],
   "source": [
    "n =5\n",
    "lost = [2, 4]\n",
    "reserve = [1, 3, 5]\n",
    "print (solution(n, lost, reserve))"
   ],
   "metadata": {
    "collapsed": false,
    "pycharm": {
     "name": "#%%\n"
    }
   }
  }
 ],
 "metadata": {
  "kernelspec": {
   "display_name": "Python 3",
   "language": "python",
   "name": "python3"
  },
  "language_info": {
   "codemirror_mode": {
    "name": "ipython",
    "version": 2
   },
   "file_extension": ".py",
   "mimetype": "text/x-python",
   "name": "python",
   "nbconvert_exporter": "python",
   "pygments_lexer": "ipython2",
   "version": "2.7.6"
  }
 },
 "nbformat": 4,
 "nbformat_minor": 0
}