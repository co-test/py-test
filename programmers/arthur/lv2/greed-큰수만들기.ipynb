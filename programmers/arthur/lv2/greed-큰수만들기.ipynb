{
 "cells": [
  {
   "cell_type": "code",
   "execution_count": 17,
   "outputs": [],
   "source": [
    "def solution(number, k):\n",
    "    '''\n",
    "    O(n) 아마.. 2n\n",
    "    :param number: 1422333774\n",
    "    :param k: 2 , 3\n",
    "    :return: 77, 774\n",
    "    '''\n",
    "    number_fool = []  # 숫자를 모아서 큰 수를 만들 때 쓰일 배열(mutable 특성을 가진 리스트에 하는게 문자열(immutable)보다 나음\n",
    "\n",
    "    for i, num in enumerate(str(number)):\n",
    "        # k개 만큼의 숫자를 빼냈을 때, i의 인덱스를 기억하기 위해서 i를 사용\n",
    "        while len(number_fool) > 0 and number_fool[-1] < num and k > 0:\n",
    "            # 쌓인 숫자들은 내림차순으로 이기때문에 마지막 숫자만 비교\n",
    "            # 알파벳 순서와 수의 대소관계가 같음\n",
    "            number_fool.pop()  # 리스트이 맨 끝에 있는 원소 하나를 없앤다.\n",
    "            k -= 1\n",
    "        # k가 0인 예외처리\n",
    "        if k == 0:\n",
    "            number_fool += list(number[i:])\n",
    "            break\n",
    "        number_fool.append(num)\n",
    "    number_fool = number_fool[:-k] if k > 0 else number_fool\n",
    "    answer = ''.join(number_fool)\n",
    "    return answer"
   ],
   "metadata": {
    "collapsed": false,
    "pycharm": {
     "name": "#%%\n"
    }
   }
  },
  {
   "cell_type": "code",
   "execution_count": 18,
   "outputs": [],
   "source": [
    "# 중복되는 숫자 생각을 안하고 대충 만들엇음... 그래서 8833 같은걸 83 으로 만들어버려서 실패\n",
    "def solution_fail(number, k):\n",
    "    number_fool = sorted(set(list(str(number))), reverse=True)\n",
    "    answer = ''\n",
    "    for i, num in enumerate(number_fool):\n",
    "        if i >= k :\n",
    "            break\n",
    "        answer += str(num)\n",
    "    print(answer)"
   ],
   "metadata": {
    "collapsed": false,
    "pycharm": {
     "name": "#%%\n"
    }
   }
  },
  {
   "cell_type": "code",
   "execution_count": 19,
   "outputs": [
    {
     "data": {
      "text/plain": "'8876'"
     },
     "execution_count": 19,
     "metadata": {},
     "output_type": "execute_result"
    }
   ],
   "source": [
    "solution(8768764, 3)"
   ],
   "metadata": {
    "collapsed": false,
    "pycharm": {
     "name": "#%%\n"
    }
   }
  }
 ],
 "metadata": {
  "kernelspec": {
   "display_name": "Python 3",
   "language": "python",
   "name": "python3"
  },
  "language_info": {
   "codemirror_mode": {
    "name": "ipython",
    "version": 2
   },
   "file_extension": ".py",
   "mimetype": "text/x-python",
   "name": "python",
   "nbconvert_exporter": "python",
   "pygments_lexer": "ipython2",
   "version": "2.7.6"
  }
 },
 "nbformat": 4,
 "nbformat_minor": 0
}